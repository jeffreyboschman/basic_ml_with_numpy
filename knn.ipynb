{
  "nbformat": 4,
  "nbformat_minor": 0,
  "metadata": {
    "colab": {
      "name": "knn.ipynb",
      "provenance": [],
      "collapsed_sections": [],
      "authorship_tag": "ABX9TyPJhWWF4A14SwPFSCdf75WU",
      "include_colab_link": true
    },
    "kernelspec": {
      "name": "python3",
      "display_name": "Python 3"
    },
    "language_info": {
      "name": "python"
    }
  },
  "cells": [
    {
      "cell_type": "markdown",
      "metadata": {
        "id": "view-in-github",
        "colab_type": "text"
      },
      "source": [
        "<a href=\"https://colab.research.google.com/github/jeffreyboschman/basic_ml_with_numpy/blob/main/knn.ipynb\" target=\"_parent\"><img src=\"https://colab.research.google.com/assets/colab-badge.svg\" alt=\"Open In Colab\"/></a>"
      ]
    },
    {
      "cell_type": "code",
      "execution_count": 98,
      "metadata": {
        "id": "_NFTmBmXrRnu"
      },
      "outputs": [],
      "source": [
        "import numpy as np\n",
        "import pandas as pd\n",
        "import matplotlib.pyplot as plt\n",
        "from matplotlib.colors import ListedColormap\n",
        "import matplotlib.patches as mpatches\n",
        "\n",
        "#https://stackoverflow.com/questions/56153726/plot-k-nearest-neighbor-graph-with-8-features\n",
        "\n",
        "cmap_light = ListedColormap(['#FFAAAA', '#AAAAFF'])\n",
        "cmap_bold  = ListedColormap(['#FF0000', '#0000FF'])\n",
        "dx = 0.005\n",
        "\n",
        "class knn():\n",
        "    def __init__(self, ref_features, ref_labels):\n",
        "        '''Initializes the k-nn classifier based on a ref_features matrix and the corresponding class labels for each point in ref_features.\n",
        "        \n",
        "        ref_features is an array with size (n,d), where n is the number of points (rows) and d is the number of features that each point has\n",
        "        ref_labels is an array of integers with size (n), so there is an integer representing a class label for each point (row) of ref_features\n",
        "        '''\n",
        "        \n",
        "        self.ref_features = np.array(ref_features)\n",
        "        self.ref_labels = np.array(ref_labels)\n",
        "        assert ref_features.shape[0] == ref_labels.shape[0], f\"The size of the first dimension of ref_features {ref_features.shape[0]} does \\\n",
        "        not equal the size of the first dimension of ref_labels {ref_labels.shape[0]}\"\n",
        "\n",
        "    def get_predictions(self, k, test_features):\n",
        "        '''Calculates the predicted classes of the points (rows) of test_features according to the k nearest points (rows) in ref_features.\n",
        "        \n",
        "        k is a user-defined constant that determines how many points in the ref_features matrix will determine the class of a point in \n",
        "            test_features (the class of the majority of the k nearest ref_features points will determine the class of the test_features point)\n",
        "        test_features is an array of points that we want to classify with size (m,d) (i.e. same number of features d as ref_features)\n",
        "        '''\n",
        "        test_features = np.array(test_features)\n",
        "        assert test_features.shape[1] == self.ref_features.shape[1], f\"The number of features of test_features {test_features.shape[1]} does equal the number of dimensions of ref_features {self.ref_features.shape[1]}\"  \n",
        "        k = int(k)\n",
        "        _ref_features = np.expand_dims(self.ref_features, axis=1) #shape (n, 1, d)\n",
        "        _test_features = np.expand_dims(test_features, axis=0) #shape (1, m, d)\n",
        "        distances = np.linalg.norm(_ref_features - _test_features, axis=2, ord=2) #shape (n,m)\n",
        "        top_k_indices = distances.argsort(axis = 0)[:k] #shape (k,m)\n",
        "        top_k_classes = np.take(self.ref_labels, top_k_indices).astype(int) #shape (k,m)\n",
        "        pred_classes = np.apply_along_axis(lambda x: np.bincount(x).argmax(), 0, top_k_classes) #shape (m,)\n",
        "\n",
        "        return pred_classes\n",
        "\n",
        "    def plot_2d_knn(self, k, test_features = None):\n",
        "        '''Visualizes the ref_features points (as circles) on a 2d graph and plots the k-nn decision boundary based on the ref_features and k \n",
        "        (Note: only works if ref_features has only 2 features). \n",
        "        If given, also plots the points of test_features (as stars).'''\n",
        "\n",
        "        assert self.ref_features.shape[1] == 2, f\"This visualizer can only plot a 2d graph, but your ref_features matrix has {self.ref_features.shape[1]} features\"\n",
        "        \n",
        "        k = int(k)\n",
        "        x_min, x_max = self.ref_features[:, 0].min() - 0.1, self.ref_features[:, 0].max() + 0.1\n",
        "        y_min, y_max = self.ref_features[:, 1].min() - 0.1, self.ref_features[:, 1].max() + 0.1\n",
        "        xx, yy = np.meshgrid(np.arange(x_min, x_max, dx),\n",
        "                             np.arange(y_min, y_max, dx))\n",
        "        background_preds = self.get_predictions(k, np.c_[xx.ravel(), yy.ravel()])\n",
        "        background_preds = background_preds.reshape(xx.shape)\n",
        "\n",
        "        fig, ax = plt.subplots()\n",
        "        plt.pcolormesh(xx,yy, background_preds, cmap=cmap_light)\n",
        "        plt.scatter(self.ref_features[:, 0], self.ref_features[:, 1], c=self.ref_labels, cmap=cmap_bold, edgecolor='k', s=20)\n",
        "        if test_features is not None:\n",
        "            test_features = np.array(test_features)\n",
        "            test_preds = self.get_predictions(k, test_features)\n",
        "            plt.scatter(test_features[:, 0], test_features[:, 1], c=test_preds, cmap=cmap_bold, marker = '*', edgecolor='k', s=50)\n",
        "        plt.xlim(xx.min(), xx.max())\n",
        "        plt.ylim(yy.min(), yy.max())\n",
        "        class_1 = mpatches.Patch(color='#FF0000', label='Class 1')\n",
        "        class_2 = mpatches.Patch(color='#0000FF', label='Class 2')\n",
        "        plt.legend(handles=[class_1, class_2])\n",
        "        plt.show\n"
      ]
    },
    {
      "cell_type": "code",
      "source": [
        "test_points = [[0.4, 0.5],\n",
        "               [0.1, 0.1],\n",
        "               [0.2, 0.2]]\n",
        "test_points = np.array(test_points)\n",
        "\n",
        "ref_dataset = [[0.1, 0.1, 0],\n",
        "               [0.3, 0.1, 0],\n",
        "               [0.2, 0.1, 0],\n",
        "               [0.1, 0.4, 0],\n",
        "               [0.2, 0.3, 0],\n",
        "               [0.4, 0.5, 1],\n",
        "               [0.5, 0.6, 1],\n",
        "               [0.7, 0.7, 1],\n",
        "               [0.7, 0.1, 1],\n",
        "               [0.2, 0.4, 0],\n",
        "               [0.3, 0.3, 1],\n",
        "               [0.7, 0.7, 0],\n",
        "               [0.45, 0.8, 1],\n",
        "               [0.9, 0.1, 1],\n",
        "               [0.9, 0.9, 0],\n",
        "               [0.3, 0.25, 1]]\n",
        "ref_np = np.array(ref_dataset)\n",
        "ref_xy = ref_np[:,0:2]\n",
        "ref_class = ref_np[:,2]"
      ],
      "metadata": {
        "id": "Fo3y9SpQ2Xkh"
      },
      "execution_count": 99,
      "outputs": []
    },
    {
      "cell_type": "code",
      "source": [
        "knn1 = knn(ref_xy, ref_class)\n",
        "knn1.plot_2d_knn(2, test_points)"
      ],
      "metadata": {
        "id": "0pbV_LMPZx12",
        "colab": {
          "base_uri": "https://localhost:8080/",
          "height": 265
        },
        "outputId": "4458468d-c2eb-4ffa-9594-1df522142b09"
      },
      "execution_count": 101,
      "outputs": [
        {
          "output_type": "display_data",
          "data": {
            "text/plain": [
              "<Figure size 432x288 with 1 Axes>"
            ],
            "image/png": "[encoded data removed]"
          },
          "metadata": {
            "needs_background": "light"
          }
        }
      ]
    },
    {
      "cell_type": "code",
      "source": [
        "#!wget \"http://archive.ics.uci.edu/ml/machine-learning-databases/breast-cancer-wisconsin/wdbc.data\" -O breast_cancer_wisconsin.csv"
      ],
      "metadata": {
        "id": "EYiWgUla7hCn"
      },
      "execution_count": 38,
      "outputs": []
    },
    {
      "cell_type": "code",
      "source": [
        ""
      ],
      "metadata": {
        "id": "w7jBnO_STbnT"
      },
      "execution_count": null,
      "outputs": []
    }
  ]
}